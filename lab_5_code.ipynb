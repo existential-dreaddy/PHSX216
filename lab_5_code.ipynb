{
 "cells": [
  {
   "cell_type": "code",
   "execution_count": 2,
   "id": "3a6c6367",
   "metadata": {},
   "outputs": [
    {
     "name": "stdout",
     "output_type": "stream",
     "text": [
      "The reported mean with standard error is 0.95 ± 0.188\n"
     ]
    }
   ],
   "source": [
    "import math\n",
    "import statistics as stat\n",
    "from statistics import mean\n",
    "#RULE 1: If Q = cA where c is a constant (or a quantity with negligible fractional error), then: δQ = cδA\n",
    "def rule_1(*args):\n",
    "    result = 1\n",
    "    for num in args:\n",
    "        result *= num\n",
    "    return result\n",
    "def rule_1_alt(c,A):\n",
    "    result = (c*A)\n",
    "    return result\n",
    "#RULE #2: If Q = cA^m where m is some power (positive, negative, integer, or fraction), then\n",
    "def rule_2(c,m,A,ua):\n",
    "    result = c*m*(A**(m-1))*ua\n",
    "    return result\n",
    "#RULE #3: If Q = A + B or Q = A − B then:\n",
    "def rule_3(au, ub):\n",
    "    result = math.sqrt(((ua)**2)+((ub)**2))\n",
    "    return result\n",
    "'''RULE #4: If Q = cA^m*B^n where m and n are powers\n",
    "(positive, negative, integer, or fraction) and c is constant, then:'''\n",
    "def rule_4(m, ua, A, n, ub, B):\n",
    "    result = math.sqrt( ((m*ua/A)**2) +  ((n*ub)/B)**2) \n",
    "    return result\n",
    "#STANDARD ERROR - SAMPLE DATA\n",
    "x = [.1, 1.3, 1.4, 0.9, 0.95, 1.05]\n",
    "x_mean = stat.mean(x)\n",
    "x_stdev = stat.stdev(x)\n",
    "n = len(x)\n",
    "def std_error(s,n):\n",
    "    result = (s/math.sqrt(n))\n",
    "    return result\n",
    "print('The reported mean with standard error is', x_mean, '±', round((std_error(x_stdev,n)), 4))"
   ]
  },
  {
   "cell_type": "markdown",
   "id": "454b9b41",
   "metadata": {},
   "source": [
    "\n",
    "Rule 3 If Q = A + B or Q = A - B then: \n",
    "\n",
    "$\\delta Q = \\sqrt{( \\delta A )^{2} + ( \\delta B) ^{2}}$\n",
    "\n",
    "\n",
    "The uncertainty for $V_{i}$ determined by Method II was calculated using the following formula:\n",
    "\n",
    "$\n",
    "\\delta V_{i} = V_{i} \\sqrt{(\\frac{\\delta \\bar{x}}{\\bar{x}})^{2} + (\\frac{0.5*\\delta y}{y})^{2}}$\n",
    "\n",
    "\n",
    "\n",
    "\n",
    " "
   ]
  },
  {
   "cell_type": "code",
   "execution_count": null,
   "id": "3daa616a",
   "metadata": {},
   "outputs": [],
   "source": []
  }
 ],
 "metadata": {
  "kernelspec": {
   "display_name": "Python 3 (ipykernel)",
   "language": "python",
   "name": "python3"
  },
  "language_info": {
   "codemirror_mode": {
    "name": "ipython",
    "version": 3
   },
   "file_extension": ".py",
   "mimetype": "text/x-python",
   "name": "python",
   "nbconvert_exporter": "python",
   "pygments_lexer": "ipython3",
   "version": "3.9.12"
  }
 },
 "nbformat": 4,
 "nbformat_minor": 5
}
